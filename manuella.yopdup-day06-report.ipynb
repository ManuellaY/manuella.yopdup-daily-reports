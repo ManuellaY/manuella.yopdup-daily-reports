{
 "cells": [
  {
   "cell_type": "markdown",
   "id": "a751630e",
   "metadata": {},
   "source": [
    "## Summations and Products"
   ]
  },
  {
   "cell_type": "markdown",
   "id": "930c2ecf",
   "metadata": {},
   "source": [
    "1. Compute the following expressions for a natural number n chosen by the user:"
   ]
  },
  {
   "cell_type": "code",
   "execution_count": 18,
   "id": "f9010845",
   "metadata": {},
   "outputs": [
    {
     "name": "stdout",
     "output_type": "stream",
     "text": [
      "Enter a positive integer n:9\n",
      "1\n",
      "3\n",
      "5\n",
      "7\n",
      "The sum of odd number plus three is : 31\n",
      "2\n",
      "4\n",
      "6\n",
      "8\n",
      "The product of even number plus three is : 10395\n"
     ]
    }
   ],
   "source": [
    "n = int(input(\"Enter a positive integer n:\"))\n",
    "summ = 3\n",
    "multiply = 3\n",
    "if n < 0:\n",
    "    print(\"The number has to be a positive integer\")\n",
    "else:\n",
    "    for i in range(1, n, 2):\n",
    "        print(i)\n",
    "        summ = summ + i + 3\n",
    "    print(\"The sum of odd number plus three is :\", summ)  \n",
    "    for i in range(2, n, 2):\n",
    "        print(i)\n",
    "        #val = i + 3\n",
    "        multiply = multiply * (i + 3)\n",
    "        #print(val)\n",
    "    print(\"The product of even number plus three is :\", multiply)\n",
    "            \n",
    "\n"
   ]
  },
  {
   "cell_type": "markdown",
   "id": "6674771d",
   "metadata": {},
   "source": [
    "2. Write a program that reads the number of the day of the week (from 0 to 6). If it is a\n",
    "working day, then the program will write the name of the corresponding day. Otherwise,\n",
    "it will write the word \"Weekend\"."
   ]
  },
  {
   "cell_type": "code",
   "execution_count": 23,
   "id": "428f246f",
   "metadata": {},
   "outputs": [
    {
     "name": "stdout",
     "output_type": "stream",
     "text": [
      "Enter a umber between 0 and 6 : 3\n",
      "Thursday\n"
     ]
    }
   ],
   "source": [
    "week = ['Monday', 'Tuesday', 'Wednesday', 'Thursday', 'Friday', 'Saturday', 'Sunday']\n",
    "day = int(input(\"Enter a umber between 0 and 6 : \")) \n",
    "\n",
    "if day<0 or day > 6:\n",
    "    print(\"The day doesn't exist\")\n",
    "elif day==5 or day==6:\n",
    "    print(\"Weekend\")\n",
    "else:\n",
    "    print(week[day])\n"
   ]
  },
  {
   "cell_type": "markdown",
   "id": "3394edf6",
   "metadata": {},
   "source": [
    "3. Make a program that, given a month number (from 0 to 11), indicates how many days it\n",
    "has (28, 30 or 31), ignoring the leap years."
   ]
  },
  {
   "cell_type": "code",
   "execution_count": 26,
   "id": "c0d64c4f",
   "metadata": {},
   "outputs": [
    {
     "name": "stdout",
     "output_type": "stream",
     "text": [
      "Enter a umber between 0 and 11 : 8\n",
      "The corresponding month is  September with 30 days.\n"
     ]
    }
   ],
   "source": [
    "months = ['January', 'February', 'March', 'April', 'May', 'June', 'July', 'August', \n",
    "        'September', 'October', 'November', 'December']\n",
    "year=[31, 28, 31, 30, 31, 30, 31, 31, 30,31, 30, 31]\n",
    "\n",
    "month = int(input(\"Enter a umber between 0 and 11 : \")) \n",
    "\n",
    "\n",
    "if month<0 or month > 11:\n",
    "    print(\"The month doesn't exist\")\n",
    "else:\n",
    "    print(\"The corresponding month is \", months[month], \"with\", year[month], \"days.\" )"
   ]
  },
  {
   "cell_type": "markdown",
   "id": "a1b58de0",
   "metadata": {},
   "source": [
    "4. Write two versions of python code that displays your name 3 times. One version with a\n",
    "\"for loop\" and another version with a \"while loop\"."
   ]
  },
  {
   "cell_type": "code",
   "execution_count": 27,
   "id": "9ed3ffa5",
   "metadata": {},
   "outputs": [
    {
     "name": "stdout",
     "output_type": "stream",
     "text": [
      "Enter your name : MANUE\n",
      "MANUE\n",
      "MANUE\n",
      "MANUE\n"
     ]
    }
   ],
   "source": [
    "name = input(\"Enter your name : \")\n",
    "for i in range(3):\n",
    "    print(name)"
   ]
  },
  {
   "cell_type": "code",
   "execution_count": 30,
   "id": "bd950317",
   "metadata": {},
   "outputs": [
    {
     "name": "stdout",
     "output_type": "stream",
     "text": [
      "Enter your name : Manue\n",
      "Manue\n",
      "Manue\n",
      "Manue\n"
     ]
    }
   ],
   "source": [
    "name = input(\"Enter your name : \")\n",
    "i=0\n",
    "while i <3 :\n",
    "    print(name)\n",
    "    i+=1\n",
    "    "
   ]
  },
  {
   "cell_type": "markdown",
   "id": "47f744ac",
   "metadata": {},
   "source": [
    "5. Given two numbers a0 and a1, the Fibonacci sequence they generate is constructed from\n",
    "the recursion formula an+1 = an + an−1. Calculate the first 15 terms of a Fibonacci\n",
    "sequence, asking the user the initial values."
   ]
  },
  {
   "cell_type": "code",
   "execution_count": 31,
   "id": "46dd6cf9",
   "metadata": {},
   "outputs": [
    {
     "name": "stdout",
     "output_type": "stream",
     "text": [
      "Enter the first term : 6\n",
      "Enter the second term : 3\n",
      "6\n",
      "3\n",
      "9\n",
      "12\n",
      "21\n",
      "33\n",
      "54\n",
      "87\n",
      "141\n",
      "228\n",
      "369\n",
      "597\n",
      "966\n",
      "1563\n",
      "2529\n"
     ]
    }
   ],
   "source": [
    "a0 = int(input(\"Enter the first term : \")) \n",
    "a1 = int(input(\"Enter the second term : \")) \n",
    "an = 0\n",
    "\n",
    "print(a0)\n",
    "print(a1)\n",
    "\n",
    "\n",
    "for i in range(13):\n",
    "    an = a0 +a1\n",
    "    print(an)\n",
    "    a0 = a1\n",
    "    a1= an"
   ]
  },
  {
   "cell_type": "markdown",
   "id": "24fc928e",
   "metadata": {},
   "source": [
    "6. Compute the first 30 terms of the sequence defined by 2xn+2 − xn+1 − 6xn = 0 sequence,\n",
    "given any two initial values x0 and x1"
   ]
  },
  {
   "cell_type": "code",
   "execution_count": 32,
   "id": "b31b5b74",
   "metadata": {},
   "outputs": [
    {
     "name": "stdout",
     "output_type": "stream",
     "text": [
      "Enter the first term : 2\n",
      "Enter the second term : 3\n",
      "2\n",
      "3\n",
      "7.5\n",
      "12.75\n",
      "28.875\n",
      "52.6875\n",
      "112.96875\n",
      "214.546875\n",
      "446.1796875\n",
      "866.73046875\n",
      "1771.904296875\n",
      "3486.1435546875\n",
      "7058.78466796875\n",
      "13987.822998046875\n",
      "28170.265502929688\n",
      "56048.60174560547\n",
      "112535.0973815918\n",
      "224413.3539276123\n",
      "449811.96910858154\n",
      "898146.0463371277\n",
      "1798508.9304943085\n",
      "3593692.6042585373\n",
      "7192373.093612194\n",
      "14377264.359581709\n",
      "28765751.460627437\n",
      "57514668.809058845\n",
      "115054588.78641173\n",
      "230071300.82038242\n",
      "460199416.76942635\n",
      "920313610.8458605\n"
     ]
    }
   ],
   "source": [
    "a0 = int(input(\"Enter the first term : \")) \n",
    "a1 = int(input(\"Enter the second term : \")) \n",
    "an = 0\n",
    "\n",
    "print(a0)\n",
    "print(a1)\n",
    "\n",
    "for i in range(28):\n",
    "    an = (a1 + 6*a0)/2\n",
    "    print(an)\n",
    "    a0 = a1\n",
    "    a1= an"
   ]
  },
  {
   "cell_type": "markdown",
   "id": "5883f52e",
   "metadata": {},
   "source": [
    "7. a) Write python code to determine whether or not a year is a leap year. Be sure you\n",
    "know what a leap year is."
   ]
  },
  {
   "cell_type": "code",
   "execution_count": 43,
   "id": "61f777ad",
   "metadata": {},
   "outputs": [
    {
     "name": "stdout",
     "output_type": "stream",
     "text": [
      "Enter a year : 1900\n",
      "The year  1900 is not a leap year.\n"
     ]
    }
   ],
   "source": [
    "year = int(input(\"Enter a year : \")) \n",
    "\n",
    "\n",
    "if year%4 == 0:\n",
    "    if year %100 !=0:\n",
    "        print(\"The year \", year, \"is a leap year.\")\n",
    "    else :\n",
    "        if year%400 == 0:\n",
    "            print(\"The year \", year, \"is a leap year.\")\n",
    "        else:\n",
    "            print(\"The year \", year, \"is not a leap year.\")\n",
    "else:\n",
    "    print(\"The year \", year, \"is not a leap year.\")"
   ]
  },
  {
   "cell_type": "markdown",
   "id": "ac2baddc",
   "metadata": {},
   "source": [
    "b) Write the code using only logical operators, i.e. no conditional branching."
   ]
  },
  {
   "cell_type": "code",
   "execution_count": 50,
   "id": "9d958575",
   "metadata": {},
   "outputs": [
    {
     "name": "stdout",
     "output_type": "stream",
     "text": [
      "Enter a year : 1900\n",
      "The year  1900 is not a leap year.\n"
     ]
    }
   ],
   "source": [
    "year = int(input(\"Enter a year : \")) \n",
    "\n",
    "if year%4 == 0 and (year %100 !=0 or year%400 == 0):\n",
    "    print(\"The year \", year, \"is a leap year.\")\n",
    "else:\n",
    "    print(\"The year \", year, \"is not a leap year.\")"
   ]
  },
  {
   "cell_type": "markdown",
   "id": "42a89947",
   "metadata": {},
   "source": [
    "8. a) Write python code that computes the sum of the square of the first n natural numbers.\n",
    "One version with a \"for loop\" and another version with a \"while loop\"."
   ]
  },
  {
   "cell_type": "code",
   "execution_count": 56,
   "id": "ed8f26e5",
   "metadata": {},
   "outputs": [
    {
     "name": "stdout",
     "output_type": "stream",
     "text": [
      "Enter a natural number n : 7\n",
      "140\n"
     ]
    }
   ],
   "source": [
    "n = int(input(\"Enter a natural number n : \"))\n",
    "summ = 0\n",
    "for i in range(n+1):\n",
    "    summ += i*i\n",
    "    #print(summ)\n",
    "print(summ)"
   ]
  },
  {
   "cell_type": "code",
   "execution_count": 58,
   "id": "2c5e729f",
   "metadata": {},
   "outputs": [
    {
     "name": "stdout",
     "output_type": "stream",
     "text": [
      "Enter a natural number n : 7\n",
      "140\n"
     ]
    }
   ],
   "source": [
    "n = int(input(\"Enter a natural number n : \"))\n",
    "summ = 0\n",
    "i=1\n",
    "while i <= n:\n",
    "    summ += i*i\n",
    "    #print(summ)\n",
    "    i +=1\n",
    "print(summ)"
   ]
  },
  {
   "cell_type": "markdown",
   "id": "d642481a",
   "metadata": {},
   "source": [
    "b) Write python code that prints, for a natural number M, the smallest natural number\n",
    "n such that 1^2 + 2^2 +· · ·+n^2 ≥ M. One version with a \"for loop\" and another version\n",
    "with a \"while loop\"."
   ]
  },
  {
   "cell_type": "code",
   "execution_count": 67,
   "id": "9b6fa5fd",
   "metadata": {},
   "outputs": [
    {
     "name": "stdout",
     "output_type": "stream",
     "text": [
      "Enter a natural number M : 5\n",
      "The minimal sum is:  14\n",
      "The minimal n is:  4\n"
     ]
    }
   ],
   "source": [
    "M = int(input(\"Enter a natural number M : \"))\n",
    "sum_squares = 0\n",
    "for i in range(M):\n",
    "    if sum_squares <= M:\n",
    "        sum_squares += i*i\n",
    "    else:\n",
    "        break\n",
    "print(\"The minimal sum is: \", sum_squares)\n",
    "print(\"The minimal n is: \", i)\n"
   ]
  },
  {
   "cell_type": "code",
   "execution_count": 66,
   "id": "c709c71e",
   "metadata": {},
   "outputs": [
    {
     "name": "stdout",
     "output_type": "stream",
     "text": [
      "Enter a natural number M : 5\n",
      "The minimal sum is:  14\n",
      "The minimal n is:  4\n"
     ]
    }
   ],
   "source": [
    "M = int(input(\"Enter a natural number M : \"))\n",
    "sum_squares = 0\n",
    "i=1\n",
    "while sum_squares <= M:\n",
    "    sum_squares += i*i\n",
    "    #print(sum_squares)\n",
    "    i +=1\n",
    "print(\"The minimal sum is: \", sum_squares)\n",
    "print(\"The minimal n is: \", i)\n"
   ]
  },
  {
   "cell_type": "markdown",
   "id": "3f006336",
   "metadata": {},
   "source": [
    "9. a) Write python code that prints all the divisors of a given natural number."
   ]
  },
  {
   "cell_type": "code",
   "execution_count": 70,
   "id": "6ff1f866",
   "metadata": {},
   "outputs": [
    {
     "name": "stdout",
     "output_type": "stream",
     "text": [
      "Enter a natural number M : 7\n",
      "All the divisors of:  7\n",
      "[1, 7]\n"
     ]
    }
   ],
   "source": [
    "M = int(input(\"Enter a natural number M : \"))\n",
    "divisors = []\n",
    "\n",
    "for i in range(1,M+1):\n",
    "    if M % i == 0:\n",
    "        divisors.append(i)\n",
    "    \n",
    "print(\"All the divisors of: \", M)\n",
    "print(divisors)"
   ]
  },
  {
   "cell_type": "markdown",
   "id": "88c93e99",
   "metadata": {},
   "source": [
    "b) Read an integer number input by the user and calculate its prime factors. This will\n",
    "just be some of its divisors."
   ]
  },
  {
   "cell_type": "code",
   "execution_count": 71,
   "id": "6ec06cdd",
   "metadata": {},
   "outputs": [
    {
     "name": "stdout",
     "output_type": "stream",
     "text": [
      "Enter a natural number M : 7\n",
      "The prime factor of:  7 is:  8\n"
     ]
    }
   ],
   "source": [
    "M = int(input(\"Enter a natural number M : \"))\n",
    "prime = 0\n",
    "\n",
    "for i in range(1,M+1):\n",
    "    if M % i == 0:\n",
    "        prime += i\n",
    "    \n",
    "print(\"The prime factor of: \", M, \"is: \", prime)"
   ]
  },
  {
   "cell_type": "markdown",
   "id": "54ffd32b",
   "metadata": {},
   "source": [
    "10. Read an integer number between n 0 and 9 and print its multiplication table up to N\n",
    "where N is another another natural number read by the program"
   ]
  },
  {
   "cell_type": "code",
   "execution_count": 1,
   "id": "16ca1ca9",
   "metadata": {},
   "outputs": [
    {
     "name": "stdout",
     "output_type": "stream",
     "text": [
      "Enter a natural number n : 6\n",
      "Enter a natural number N : 8\n",
      "6 x 1 = 6\n",
      "6 x 2 = 12\n",
      "6 x 3 = 18\n",
      "6 x 4 = 24\n",
      "6 x 5 = 30\n",
      "6 x 6 = 36\n",
      "6 x 7 = 42\n",
      "6 x 8 = 48\n"
     ]
    }
   ],
   "source": [
    "n = int(input(\"Enter a natural number n : \"))\n",
    "N = int(input(\"Enter a natural number N : \"))\n",
    "multiply = 0\n",
    "\n",
    "for i in range(1,N+1):\n",
    "    multiply = i*n\n",
    "    print(n, \"x\", i, \"=\", multiply)"
   ]
  },
  {
   "cell_type": "markdown",
   "id": "4d13584d",
   "metadata": {},
   "source": [
    "11. Write a program that prints all the numbers between 0 and 40 that are multiples of 3, 7\n",
    "or 11"
   ]
  },
  {
   "cell_type": "code",
   "execution_count": 2,
   "id": "49466cfd",
   "metadata": {
    "scrolled": true
   },
   "outputs": [
    {
     "name": "stdout",
     "output_type": "stream",
     "text": [
      "0\n",
      "3\n",
      "6\n",
      "7\n",
      "9\n",
      "11\n",
      "12\n",
      "14\n",
      "15\n",
      "18\n",
      "21\n",
      "22\n",
      "24\n",
      "27\n",
      "28\n",
      "30\n",
      "33\n",
      "35\n",
      "36\n",
      "39\n"
     ]
    }
   ],
   "source": [
    "for i in range(41):\n",
    "    if i%3==0 or i%7==0 or i%11==0:\n",
    "        print(i)"
   ]
  },
  {
   "cell_type": "markdown",
   "id": "acb76ca0",
   "metadata": {},
   "source": [
    "12. Write python code that prints the floor of a float x. Recall that the floor of a float x is the\n",
    "largest integer value less than or equal to x, i.e. if E[x] is the floor of x, then it satisfies,\n",
    "E[x] = 1 + E[x − 1]"
   ]
  },
  {
   "cell_type": "code",
   "execution_count": 6,
   "id": "13213677",
   "metadata": {},
   "outputs": [
    {
     "name": "stdout",
     "output_type": "stream",
     "text": [
      "Enter a number: 679.45\n",
      "3\n",
      "La partie entiere est:  679\n"
     ]
    }
   ],
   "source": [
    "n = str(input(\"Enter a number: \"))\n",
    "i = n.find(\".\")\n",
    "print(i)\n",
    "print(\"La partie entiere est: \", n[:i])\n"
   ]
  },
  {
   "cell_type": "markdown",
   "id": "9d35e781",
   "metadata": {},
   "source": [
    "13 .Given a point in the plane by its Cartesian coordinates, determine in which quadrant it is\n",
    "(1st, 2nd, 3rd, 4th), if it lies on an axis, or if it is the origin. Do this for several points in\n",
    "the same execution of the program until the user quits"
   ]
  },
  {
   "cell_type": "code",
   "execution_count": 10,
   "id": "ca0d9a08",
   "metadata": {},
   "outputs": [
    {
     "name": "stdout",
     "output_type": "stream",
     "text": [
      "Enter x: 6\n",
      "Enter y: 3\n",
      "second quadrant\n",
      "Do you want to continue??(y/n) y\n",
      "Enter x: -4\n",
      "Enter y: 8\n",
      "first quadrant\n",
      "Do you want to continue??(y/n) n\n"
     ]
    }
   ],
   "source": [
    "quit= False\n",
    "while quit == False :\n",
    "    x = float(input(\"Enter x: \"))\n",
    "    y = float(input(\"Enter y: \"))\n",
    "    \n",
    "    if x==0 and y==0:\n",
    "        print (\"Origin\")\n",
    "    if x==0 :\n",
    "        print (\"lies on an axis x\")\n",
    "    if y==0:\n",
    "        print (\"lies on an axis y\")\n",
    "    if x<0 and y>0:\n",
    "        print (\"first quadrant\")\n",
    "    if x>0 and y>0:\n",
    "        print (\"second quadrant\")\n",
    "    if x<0 and y<0:\n",
    "        print (\"Third quadrant\")\n",
    "    if x>0 and y<0:\n",
    "        print (\"Fourth quadrant\")\n",
    "        \n",
    "    choice = str(input(\"Do you want to continue??(y/n) \"))\n",
    "    choice = choice.lower()\n",
    "    if choice == \"n\":\n",
    "        break\n",
    "    \n",
    "        \n",
    "    "
   ]
  },
  {
   "cell_type": "markdown",
   "id": "cad51d5e",
   "metadata": {},
   "source": [
    "14. Ask for an integer number between 0 and 9, denoted x. Once the user has entered a correct\n",
    "number (that is one in the range [0..10)) the program asks for a second integer number\n",
    "between 0 and 255, denoted max. The program continues asking for the number until it\n",
    "is correct (that it is in the range [0..256)). When this is done, show all multiples of x that\n",
    "are between 0 and max. Then, ask the user whether he/she wants to continue; if in the\n",
    "affirmative, ask for another couple of numbers, otherwise finish"
   ]
  },
  {
   "cell_type": "code",
   "execution_count": 14,
   "id": "a64fe075",
   "metadata": {},
   "outputs": [
    {
     "name": "stdout",
     "output_type": "stream",
     "text": [
      "Enter x: 5\n",
      "Enter max: 290\n",
      "Enter max: 230\n",
      "The multiples of x are: \n",
      "0\n",
      "5\n",
      "10\n",
      "15\n",
      "20\n",
      "25\n",
      "30\n",
      "35\n",
      "40\n",
      "45\n",
      "50\n",
      "55\n",
      "60\n",
      "65\n",
      "70\n",
      "75\n",
      "80\n",
      "85\n",
      "90\n",
      "95\n",
      "100\n",
      "105\n",
      "110\n",
      "115\n",
      "120\n",
      "125\n",
      "130\n",
      "135\n",
      "140\n",
      "145\n",
      "150\n",
      "155\n",
      "160\n",
      "165\n",
      "170\n",
      "175\n",
      "180\n",
      "185\n",
      "190\n",
      "195\n",
      "200\n",
      "205\n",
      "210\n",
      "215\n",
      "220\n",
      "225\n",
      "Do you want to continue??(y/n) n\n"
     ]
    }
   ],
   "source": [
    "quit= False\n",
    "x= 0\n",
    "maxi=0\n",
    "while quit == False :\n",
    "    x = int(input(\"Enter x: \"))\n",
    "    maxi = int(input(\"Enter max: \"))\n",
    "    while x<0 or x>9 :\n",
    "        x = int(input(\"Enter x: \"))\n",
    "    while maxi<0 or maxi>256 :\n",
    "        maxi = int(input(\"Enter max: \"))\n",
    "    print(\"The multiples of x are: \")\n",
    "    for i in range (maxi):\n",
    "        if i%x == 0:\n",
    "            print(i)\n",
    "  \n",
    "    choice = str(input(\"Do you want to continue??(y/n) \"))\n",
    "    choice = choice.lower()\n",
    "    if choice == \"n\":\n",
    "        break\n",
    "    \n",
    "        "
   ]
  },
  {
   "cell_type": "code",
   "execution_count": null,
   "id": "74d2bb6c",
   "metadata": {},
   "outputs": [],
   "source": []
  }
 ],
 "metadata": {
  "kernelspec": {
   "display_name": "Python 3",
   "language": "python",
   "name": "python3"
  },
  "language_info": {
   "codemirror_mode": {
    "name": "ipython",
    "version": 3
   },
   "file_extension": ".py",
   "mimetype": "text/x-python",
   "name": "python",
   "nbconvert_exporter": "python",
   "pygments_lexer": "ipython3",
   "version": "3.9.2"
  }
 },
 "nbformat": 4,
 "nbformat_minor": 5
}
