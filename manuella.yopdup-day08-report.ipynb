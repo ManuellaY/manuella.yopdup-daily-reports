{
 "cells": [
  {
   "cell_type": "markdown",
   "id": "7a6d3b3d",
   "metadata": {},
   "source": [
    "# PyPro: challenge 1"
   ]
  },
  {
   "cell_type": "markdown",
   "id": "88199c86",
   "metadata": {},
   "source": [
    "## Basic Tasks"
   ]
  },
  {
   "cell_type": "markdown",
   "id": "08f9f99b",
   "metadata": {},
   "source": [
    "1.Create a function find_max() \n",
    "that accepts two numeric inputs and returns the greater value. Avoid using the built-in max() function."
   ]
  },
  {
   "cell_type": "code",
   "execution_count": 3,
   "id": "9ee14bb2",
   "metadata": {},
   "outputs": [
    {
     "name": "stdout",
     "output_type": "stream",
     "text": [
      "Enter the first number : 5\n",
      "Enter the second number : 5\n"
     ]
    },
    {
     "data": {
      "text/plain": [
       "5"
      ]
     },
     "execution_count": 3,
     "metadata": {},
     "output_type": "execute_result"
    }
   ],
   "source": [
    "def find_max(a, b):\n",
    "    if a <= b :\n",
    "        return b\n",
    "    elif a > b :\n",
    "        return a\n",
    "\n",
    "a = int(input(\"Enter the first number : \"))\n",
    "b = int(input(\"Enter the second number : \"))\n",
    "find_max(a, b)"
   ]
  },
  {
   "cell_type": "markdown",
   "id": "c3607d06",
   "metadata": {},
   "source": [
    "2.Develop a function find_max_of_three() to find the maximum among three given numbers."
   ]
  },
  {
   "cell_type": "code",
   "execution_count": 4,
   "id": "e1fd7222",
   "metadata": {},
   "outputs": [
    {
     "name": "stdout",
     "output_type": "stream",
     "text": [
      "Enter the first number : 5\n",
      "Enter the second number : 2\n",
      "Enter the third number : 8\n"
     ]
    },
    {
     "data": {
      "text/plain": [
       "8"
      ]
     },
     "execution_count": 4,
     "metadata": {},
     "output_type": "execute_result"
    }
   ],
   "source": [
    "def find_max_of_three(a, b, c):\n",
    "    return find_max(find_max(a, b), c)\n",
    "\n",
    "a = int(input(\"Enter the first number : \"))\n",
    "b = int(input(\"Enter the second number : \"))\n",
    "c = int(input(\"Enter the third number : \"))\n",
    "find_max_of_three(a, b, c)"
   ]
  },
  {
   "cell_type": "markdown",
   "id": "aa7d2000",
   "metadata": {},
   "source": [
    "3.Write a function to manually calculate the length of a given list or string without using len()."
   ]
  },
  {
   "cell_type": "code",
   "execution_count": 7,
   "id": "63efdc66",
   "metadata": {},
   "outputs": [],
   "source": [
    "def length_list(A):\n",
    "    length =  0\n",
    "    for i in A:\n",
    "        length += 1\n",
    "    return length"
   ]
  },
  {
   "cell_type": "code",
   "execution_count": 11,
   "id": "eb1cc0c8",
   "metadata": {},
   "outputs": [
    {
     "data": {
      "text/plain": [
       "11"
      ]
     },
     "execution_count": 11,
     "metadata": {},
     "output_type": "execute_result"
    }
   ],
   "source": [
    "A = [2, 5, 6, 3, \"e\", \"u\"]\n",
    "\n",
    "length_list('HGJKFJKKFJH')"
   ]
  },
  {
   "cell_type": "markdown",
   "id": "40f20bea",
   "metadata": {},
   "source": [
    "4.Implement a function that checks if a given character is a vowel (a, e, i, o, u)."
   ]
  },
  {
   "cell_type": "code",
   "execution_count": 21,
   "id": "19530f70",
   "metadata": {},
   "outputs": [
    {
     "name": "stdout",
     "output_type": "stream",
     "text": [
      "Enter a character: e\n"
     ]
    },
    {
     "data": {
      "text/plain": [
       "True"
      ]
     },
     "execution_count": 21,
     "metadata": {},
     "output_type": "execute_result"
    }
   ],
   "source": [
    "def isvowel(x):\n",
    "    vowel = ['a', 'e', 'i', 'o', 'u']\n",
    "    if len(x) == 1:\n",
    "        if x.lower() in vowel:\n",
    "            return True\n",
    "        else:\n",
    "            return False\n",
    "    else:\n",
    "        print(\"Please enter just one character\")\n",
    "        \n",
    "x = input(\"Enter a character: \")\n",
    "isvowel(x)\n",
    "        "
   ]
  },
  {
   "cell_type": "markdown",
   "id": "8c8830f1",
   "metadata": {},
   "source": [
    "5.Write a function encode() that converts a string into “rövarspråket” (robber’s language) \n",
    "by doubling consonants and placing “o” in between, e.g., “hello” -> “hohelollolo”."
   ]
  },
  {
   "cell_type": "code",
   "execution_count": 23,
   "id": "47c274e1",
   "metadata": {},
   "outputs": [
    {
     "data": {
      "text/plain": [
       "'hohelollolo'"
      ]
     },
     "execution_count": 23,
     "metadata": {},
     "output_type": "execute_result"
    }
   ],
   "source": [
    "def encode(Word):\n",
    "    robber= ''\n",
    "    for letter in Word:\n",
    "        if isvowel(letter):\n",
    "            robber += letter\n",
    "        else:\n",
    "            robber += letter + 'o' + letter\n",
    "    return robber\n",
    "\n",
    "encode('hello')\n",
    "    "
   ]
  },
  {
   "cell_type": "markdown",
   "id": "0b6b6b01",
   "metadata": {},
   "source": [
    "6.Create sum_elements() and product_elements() functions to sum and multiply all elements in a list, respectively."
   ]
  },
  {
   "cell_type": "code",
   "execution_count": 25,
   "id": "c6472e7c",
   "metadata": {},
   "outputs": [
    {
     "data": {
      "text/plain": [
       "16"
      ]
     },
     "execution_count": 25,
     "metadata": {},
     "output_type": "execute_result"
    }
   ],
   "source": [
    "def sum_elements(*elements):\n",
    "    summ = 0\n",
    "    for element in elements:\n",
    "        summ += element\n",
    "    return summ\n",
    "\n",
    "A = [2, 5, 6, 3]\n",
    "\n",
    "sum_elements(*A)"
   ]
  },
  {
   "cell_type": "markdown",
   "id": "92369efe",
   "metadata": {},
   "source": [
    "7.Define a function reverse_string() to reverse the characters in a given string."
   ]
  },
  {
   "cell_type": "code",
   "execution_count": 28,
   "id": "e57af067",
   "metadata": {},
   "outputs": [
    {
     "name": "stdout",
     "output_type": "stream",
     "text": [
      "Enter a string: yui\n"
     ]
    },
    {
     "data": {
      "text/plain": [
       "'iuy'"
      ]
     },
     "execution_count": 28,
     "metadata": {},
     "output_type": "execute_result"
    }
   ],
   "source": [
    "def reverse_string(string):\n",
    "    reverse = ''\n",
    "    i = len(string)\n",
    "    while i > 0 :\n",
    "        reverse += string[i-1]\n",
    "        i -= 1\n",
    "    return reverse\n",
    "\n",
    "x = input(\"Enter a string: \")\n",
    "reverse_string(x)"
   ]
  },
  {
   "cell_type": "markdown",
   "id": "ba6d7a21",
   "metadata": {},
   "source": [
    "8.Implement check_palindrome() to verify if a string reads the same forwards and backwards, i.e. is a palindrome."
   ]
  },
  {
   "cell_type": "code",
   "execution_count": 30,
   "id": "9360b3bf",
   "metadata": {},
   "outputs": [
    {
     "name": "stdout",
     "output_type": "stream",
     "text": [
      "Enter a string: matam\n"
     ]
    },
    {
     "data": {
      "text/plain": [
       "True"
      ]
     },
     "execution_count": 30,
     "metadata": {},
     "output_type": "execute_result"
    }
   ],
   "source": [
    "def check_palindrome(string):\n",
    "    if string == reverse_string(string):\n",
    "        return True\n",
    "    else :\n",
    "        return False\n",
    "    \n",
    "x = input(\"Enter a string: \")\n",
    "check_palindrome(x)"
   ]
  },
  {
   "cell_type": "markdown",
   "id": "fbfee6a7",
   "metadata": {},
   "source": [
    "9.Develop a function check_membership() to determine if a value exists within a list."
   ]
  },
  {
   "cell_type": "code",
   "execution_count": 15,
   "id": "1be9de48",
   "metadata": {},
   "outputs": [
    {
     "name": "stdout",
     "output_type": "stream",
     "text": [
      "Enter a value: 3\n"
     ]
    },
    {
     "data": {
      "text/plain": [
       "True"
      ]
     },
     "execution_count": 15,
     "metadata": {},
     "output_type": "execute_result"
    }
   ],
   "source": [
    "def check_membership(value, *liste):\n",
    "    if value in liste :\n",
    "        return True\n",
    "    else:\n",
    "        return False\n",
    "\n",
    "A = [2, 5, 6, 3]\n",
    "x = int(input(\"Enter a value: \"))\n",
    "check_membership(x, *A)"
   ]
  },
  {
   "cell_type": "markdown",
   "id": "f198ac1e",
   "metadata": {},
   "source": [
    "10.Write check_overlap() to identify if two lists share any elements."
   ]
  },
  {
   "cell_type": "code",
   "execution_count": 16,
   "id": "0ee9dba2",
   "metadata": {},
   "outputs": [
    {
     "data": {
      "text/plain": [
       "True"
      ]
     },
     "execution_count": 16,
     "metadata": {},
     "output_type": "execute_result"
    }
   ],
   "source": [
    "def check_overlap(liste1, liste2):\n",
    "    for value in liste1:\n",
    "        if check_membership(value, *liste2):\n",
    "            return True\n",
    "    return False\n",
    "\n",
    "A = [2, 5, 6, 3]\n",
    "B = [32, 1, 0, 5]\n",
    "#x = int(input(\"Enter a value: \"))\n",
    "check_overlap(A, B)"
   ]
  },
  {
   "cell_type": "code",
   "execution_count": null,
   "id": "cd250b4e",
   "metadata": {},
   "outputs": [],
   "source": []
  },
  {
   "cell_type": "code",
   "execution_count": null,
   "id": "e9816167",
   "metadata": {},
   "outputs": [],
   "source": []
  },
  {
   "cell_type": "code",
   "execution_count": null,
   "id": "e71c4dd1",
   "metadata": {},
   "outputs": [],
   "source": []
  },
  {
   "cell_type": "code",
   "execution_count": null,
   "id": "bbefebf7",
   "metadata": {},
   "outputs": [],
   "source": []
  },
  {
   "cell_type": "code",
   "execution_count": null,
   "id": "0a53ae1b",
   "metadata": {},
   "outputs": [],
   "source": []
  },
  {
   "cell_type": "code",
   "execution_count": null,
   "id": "76840463",
   "metadata": {},
   "outputs": [],
   "source": []
  },
  {
   "cell_type": "code",
   "execution_count": null,
   "id": "9c69b49a",
   "metadata": {},
   "outputs": [],
   "source": []
  },
  {
   "cell_type": "code",
   "execution_count": null,
   "id": "7438de3b",
   "metadata": {},
   "outputs": [],
   "source": []
  },
  {
   "cell_type": "code",
   "execution_count": null,
   "id": "ae8cf3c1",
   "metadata": {},
   "outputs": [],
   "source": []
  }
 ],
 "metadata": {
  "kernelspec": {
   "display_name": "Python 3",
   "language": "python",
   "name": "python3"
  },
  "language_info": {
   "codemirror_mode": {
    "name": "ipython",
    "version": 3
   },
   "file_extension": ".py",
   "mimetype": "text/x-python",
   "name": "python",
   "nbconvert_exporter": "python",
   "pygments_lexer": "ipython3",
   "version": "3.9.2"
  }
 },
 "nbformat": 4,
 "nbformat_minor": 5
}
